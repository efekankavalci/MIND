{
 "cells": [
  {
   "cell_type": "code",
   "execution_count": null,
   "metadata": {},
   "outputs": [],
   "source": [
    "import os\n",
    "import pandas as pd\n",
    "import networkx as nx\n",
    "import nibabel.freesurfer.io as fsio\n",
    "import numpy as np\n",
    "annot_file = r'C:\\Users\\efeka\\Desktop\\TubitakData\\2025.01.03_mri_patients_features\\tubitak_fs\\ABDULKADIR_CALISKAN_folder\\label\\lh.aparc.annot'\n",
    "labels, ctab, region_names = fsio.read_annot(annot_file)"
   ]
  },
  {
   "cell_type": "code",
   "execution_count": null,
   "metadata": {},
   "outputs": [],
   "source": []
  },
  {
   "cell_type": "code",
   "execution_count": 5,
   "metadata": {},
   "outputs": [
    {
     "data": {
      "text/plain": [
       "35"
      ]
     },
     "execution_count": 5,
     "metadata": {},
     "output_type": "execute_result"
    }
   ],
   "source": [
    "max(labels)"
   ]
  },
  {
   "cell_type": "code",
   "execution_count": 11,
   "metadata": {},
   "outputs": [
    {
     "data": {
      "text/plain": [
       "[b'unknown',\n",
       " b'bankssts',\n",
       " b'caudalanteriorcingulate',\n",
       " b'caudalmiddlefrontal',\n",
       " b'corpuscallosum',\n",
       " b'cuneus',\n",
       " b'entorhinal',\n",
       " b'fusiform',\n",
       " b'inferiorparietal',\n",
       " b'inferiortemporal',\n",
       " b'isthmuscingulate',\n",
       " b'lateraloccipital',\n",
       " b'lateralorbitofrontal',\n",
       " b'lingual',\n",
       " b'medialorbitofrontal',\n",
       " b'middletemporal',\n",
       " b'parahippocampal',\n",
       " b'paracentral',\n",
       " b'parsopercularis',\n",
       " b'parsorbitalis',\n",
       " b'parstriangularis',\n",
       " b'pericalcarine',\n",
       " b'postcentral',\n",
       " b'posteriorcingulate',\n",
       " b'precentral',\n",
       " b'precuneus',\n",
       " b'rostralanteriorcingulate',\n",
       " b'rostralmiddlefrontal',\n",
       " b'superiorfrontal',\n",
       " b'superiorparietal',\n",
       " b'superiortemporal',\n",
       " b'supramarginal',\n",
       " b'frontalpole',\n",
       " b'temporalpole',\n",
       " b'transversetemporal',\n",
       " b'insula']"
      ]
     },
     "execution_count": 11,
     "metadata": {},
     "output_type": "execute_result"
    }
   ],
   "source": [
    "region_names"
   ]
  },
  {
   "cell_type": "code",
   "execution_count": 7,
   "metadata": {},
   "outputs": [
    {
     "data": {
      "text/plain": [
       "(36, 5)"
      ]
     },
     "execution_count": 7,
     "metadata": {},
     "output_type": "execute_result"
    }
   ],
   "source": [
    "ctab.shape"
   ]
  }
 ],
 "metadata": {
  "kernelspec": {
   "display_name": "Python 3",
   "language": "python",
   "name": "python3"
  },
  "language_info": {
   "codemirror_mode": {
    "name": "ipython",
    "version": 3
   },
   "file_extension": ".py",
   "mimetype": "text/x-python",
   "name": "python",
   "nbconvert_exporter": "python",
   "pygments_lexer": "ipython3",
   "version": "3.11.4"
  }
 },
 "nbformat": 4,
 "nbformat_minor": 2
}
