{
 "cells": [
  {
   "cell_type": "code",
   "execution_count": 2,
   "id": "fd220456",
   "metadata": {},
   "outputs": [],
   "source": [
    "import pandas as pd\n",
    "surf_csv_path = r'c:\\Users\\efeka\\Downloads\\adni1_surfaces_ucsffsx_4_15_2025.csv'\n",
    "tadpole_path = r'C:\\Users\\efeka\\Documents\\GitHub\\gnn-healthcare-thesis\\imputation\\TADPOLE_D1_D2_sorted_imputed.csv'\n",
    "ucsffsx_path = r'C:\\Users\\efeka\\Documents\\GitHub\\MIND\\mind_adni1_bl\\UCSFFSX_11_02_15_09Apr2025.csv'\n",
    "tadpole = pd.read_csv(tadpole_path)\n",
    "surf_files =pd.read_csv(surf_csv_path)\n",
    "ucsffsx = pd.read_csv(ucsffsx_path)"
   ]
  },
  {
   "cell_type": "code",
   "execution_count": 3,
   "id": "e98b0897",
   "metadata": {},
   "outputs": [],
   "source": [
    "surf_ids = surf_files['Subject'].unique().tolist()\n",
    "tadpole_ids = tadpole['PTID'].unique().tolist()\n",
    "ucsffsx_ids = ucsffsx['RID'].unique().tolist()"
   ]
  },
  {
   "cell_type": "code",
   "execution_count": 4,
   "id": "08feb722",
   "metadata": {},
   "outputs": [
    {
     "name": "stdout",
     "output_type": "stream",
     "text": [
      "Number of IDs in surf: 841\n",
      "Number of IDs in tadpole: 1737\n",
      "Number of IDs in intersection: 818\n",
      "Number of IDs in difference: 23\n",
      "Number of IDs in union: 1760\n"
     ]
    }
   ],
   "source": [
    "#Find the intersection of the two lists, difference and union\n",
    "intersection = set(surf_ids).intersection(set(tadpole_ids))\n",
    "difference = set(surf_ids).difference(set(tadpole_ids))\n",
    "union = set(surf_ids).union(set(tadpole_ids))\n",
    "\n",
    "# print the length of the lists\n",
    "print(f'Number of IDs in surf: {len(surf_ids)}')\n",
    "print(f'Number of IDs in tadpole: {len(tadpole_ids)}')\n",
    "print(f'Number of IDs in intersection: {len(intersection)}')\n",
    "print(f'Number of IDs in difference: {len(difference)}')\n",
    "print(f'Number of IDs in union: {len(union)}')\n",
    "\n",
    "# Print the IDs in the difference\n"
   ]
  },
  {
   "cell_type": "markdown",
   "id": "b262d5c8",
   "metadata": {},
   "source": [
    "### View Image IDs"
   ]
  },
  {
   "cell_type": "code",
   "execution_count": null,
   "id": "3eeaaae4",
   "metadata": {},
   "outputs": [
    {
     "data": {
      "text/html": [
       "<div>\n",
       "<style scoped>\n",
       "    .dataframe tbody tr th:only-of-type {\n",
       "        vertical-align: middle;\n",
       "    }\n",
       "\n",
       "    .dataframe tbody tr th {\n",
       "        vertical-align: top;\n",
       "    }\n",
       "\n",
       "    .dataframe thead th {\n",
       "        text-align: right;\n",
       "    }\n",
       "</style>\n",
       "<table border=\"1\" class=\"dataframe\">\n",
       "  <thead>\n",
       "    <tr style=\"text-align: right;\">\n",
       "      <th></th>\n",
       "      <th>RID</th>\n",
       "      <th>PTID</th>\n",
       "      <th>VISCODE</th>\n",
       "      <th>IMAGEUID_UCSFFSX_11_02_15_UCSFFSX51_08_01_16</th>\n",
       "    </tr>\n",
       "  </thead>\n",
       "  <tbody>\n",
       "    <tr>\n",
       "      <th>0</th>\n",
       "      <td>2</td>\n",
       "      <td>011_S_0002</td>\n",
       "      <td>bl</td>\n",
       "      <td>35475</td>\n",
       "    </tr>\n",
       "    <tr>\n",
       "      <th>1</th>\n",
       "      <td>2</td>\n",
       "      <td>011_S_0002</td>\n",
       "      <td>m06</td>\n",
       "      <td></td>\n",
       "    </tr>\n",
       "    <tr>\n",
       "      <th>2</th>\n",
       "      <td>2</td>\n",
       "      <td>011_S_0002</td>\n",
       "      <td>m36</td>\n",
       "      <td></td>\n",
       "    </tr>\n",
       "    <tr>\n",
       "      <th>3</th>\n",
       "      <td>2</td>\n",
       "      <td>011_S_0002</td>\n",
       "      <td>m60</td>\n",
       "      <td></td>\n",
       "    </tr>\n",
       "    <tr>\n",
       "      <th>4</th>\n",
       "      <td>2</td>\n",
       "      <td>011_S_0002</td>\n",
       "      <td>m66</td>\n",
       "      <td></td>\n",
       "    </tr>\n",
       "    <tr>\n",
       "      <th>...</th>\n",
       "      <td>...</td>\n",
       "      <td>...</td>\n",
       "      <td>...</td>\n",
       "      <td>...</td>\n",
       "    </tr>\n",
       "    <tr>\n",
       "      <th>6935</th>\n",
       "      <td>1430</td>\n",
       "      <td>128_S_1430</td>\n",
       "      <td>bl</td>\n",
       "      <td>79857</td>\n",
       "    </tr>\n",
       "    <tr>\n",
       "      <th>6936</th>\n",
       "      <td>1430</td>\n",
       "      <td>128_S_1430</td>\n",
       "      <td>m06</td>\n",
       "      <td>124184</td>\n",
       "    </tr>\n",
       "    <tr>\n",
       "      <th>6937</th>\n",
       "      <td>1430</td>\n",
       "      <td>128_S_1430</td>\n",
       "      <td>m18</td>\n",
       "      <td></td>\n",
       "    </tr>\n",
       "    <tr>\n",
       "      <th>6938</th>\n",
       "      <td>1430</td>\n",
       "      <td>128_S_1430</td>\n",
       "      <td>m24</td>\n",
       "      <td></td>\n",
       "    </tr>\n",
       "    <tr>\n",
       "      <th>6939</th>\n",
       "      <td>1435</td>\n",
       "      <td>041_S_1435</td>\n",
       "      <td>bl</td>\n",
       "      <td>79636</td>\n",
       "    </tr>\n",
       "  </tbody>\n",
       "</table>\n",
       "<p>6940 rows × 4 columns</p>\n",
       "</div>"
      ],
      "text/plain": [
       "       RID        PTID VISCODE IMAGEUID_UCSFFSX_11_02_15_UCSFFSX51_08_01_16\n",
       "0        2  011_S_0002      bl                                        35475\n",
       "1        2  011_S_0002     m06                                             \n",
       "2        2  011_S_0002     m36                                             \n",
       "3        2  011_S_0002     m60                                             \n",
       "4        2  011_S_0002     m66                                             \n",
       "...    ...         ...     ...                                          ...\n",
       "6935  1430  128_S_1430      bl                                        79857\n",
       "6936  1430  128_S_1430     m06                                       124184\n",
       "6937  1430  128_S_1430     m18                                             \n",
       "6938  1430  128_S_1430     m24                                             \n",
       "6939  1435  041_S_1435      bl                                        79636\n",
       "\n",
       "[6940 rows x 4 columns]"
      ]
     },
     "execution_count": 5,
     "metadata": {},
     "output_type": "execute_result"
    }
   ],
   "source": [
    "tadpole_image = tadpole[['RID', 'PTID', 'VISCODE', 'IMAGEUID_UCSFFSX_11_02_15_UCSFFSX51_08_01_16']]\n",
    "tadpole_image = tadpole_image[tadpole_image['RID'].isin(ucsffsx_ids)]"
   ]
  },
  {
   "cell_type": "code",
   "execution_count": 7,
   "id": "5eaa15aa",
   "metadata": {},
   "outputs": [
    {
     "data": {
      "text/html": [
       "<div>\n",
       "<style scoped>\n",
       "    .dataframe tbody tr th:only-of-type {\n",
       "        vertical-align: middle;\n",
       "    }\n",
       "\n",
       "    .dataframe tbody tr th {\n",
       "        vertical-align: top;\n",
       "    }\n",
       "\n",
       "    .dataframe thead th {\n",
       "        text-align: right;\n",
       "    }\n",
       "</style>\n",
       "<table border=\"1\" class=\"dataframe\">\n",
       "  <thead>\n",
       "    <tr style=\"text-align: right;\">\n",
       "      <th></th>\n",
       "      <th>RID</th>\n",
       "      <th>PTID</th>\n",
       "      <th>VISCODE</th>\n",
       "      <th>IMAGEUID_UCSFFSX_11_02_15_UCSFFSX51_08_01_16</th>\n",
       "    </tr>\n",
       "  </thead>\n",
       "  <tbody>\n",
       "    <tr>\n",
       "      <th>0</th>\n",
       "      <td>2</td>\n",
       "      <td>011_S_0002</td>\n",
       "      <td>bl</td>\n",
       "      <td>35475</td>\n",
       "    </tr>\n",
       "    <tr>\n",
       "      <th>1</th>\n",
       "      <td>2</td>\n",
       "      <td>011_S_0002</td>\n",
       "      <td>m06</td>\n",
       "      <td></td>\n",
       "    </tr>\n",
       "    <tr>\n",
       "      <th>2</th>\n",
       "      <td>2</td>\n",
       "      <td>011_S_0002</td>\n",
       "      <td>m36</td>\n",
       "      <td></td>\n",
       "    </tr>\n",
       "    <tr>\n",
       "      <th>3</th>\n",
       "      <td>2</td>\n",
       "      <td>011_S_0002</td>\n",
       "      <td>m60</td>\n",
       "      <td></td>\n",
       "    </tr>\n",
       "    <tr>\n",
       "      <th>4</th>\n",
       "      <td>2</td>\n",
       "      <td>011_S_0002</td>\n",
       "      <td>m66</td>\n",
       "      <td></td>\n",
       "    </tr>\n",
       "    <tr>\n",
       "      <th>5</th>\n",
       "      <td>2</td>\n",
       "      <td>011_S_0002</td>\n",
       "      <td>m72</td>\n",
       "      <td></td>\n",
       "    </tr>\n",
       "    <tr>\n",
       "      <th>6</th>\n",
       "      <td>2</td>\n",
       "      <td>011_S_0002</td>\n",
       "      <td>m78</td>\n",
       "      <td></td>\n",
       "    </tr>\n",
       "    <tr>\n",
       "      <th>7</th>\n",
       "      <td>2</td>\n",
       "      <td>011_S_0002</td>\n",
       "      <td>m84</td>\n",
       "      <td></td>\n",
       "    </tr>\n",
       "    <tr>\n",
       "      <th>8</th>\n",
       "      <td>2</td>\n",
       "      <td>011_S_0002</td>\n",
       "      <td>m90</td>\n",
       "      <td></td>\n",
       "    </tr>\n",
       "    <tr>\n",
       "      <th>9</th>\n",
       "      <td>2</td>\n",
       "      <td>011_S_0002</td>\n",
       "      <td>m96</td>\n",
       "      <td></td>\n",
       "    </tr>\n",
       "    <tr>\n",
       "      <th>10</th>\n",
       "      <td>2</td>\n",
       "      <td>011_S_0002</td>\n",
       "      <td>m102</td>\n",
       "      <td></td>\n",
       "    </tr>\n",
       "    <tr>\n",
       "      <th>11</th>\n",
       "      <td>2</td>\n",
       "      <td>011_S_0002</td>\n",
       "      <td>m108</td>\n",
       "      <td></td>\n",
       "    </tr>\n",
       "    <tr>\n",
       "      <th>12</th>\n",
       "      <td>2</td>\n",
       "      <td>011_S_0002</td>\n",
       "      <td>m120</td>\n",
       "      <td></td>\n",
       "    </tr>\n",
       "  </tbody>\n",
       "</table>\n",
       "</div>"
      ],
      "text/plain": [
       "    RID        PTID VISCODE IMAGEUID_UCSFFSX_11_02_15_UCSFFSX51_08_01_16\n",
       "0     2  011_S_0002      bl                                        35475\n",
       "1     2  011_S_0002     m06                                             \n",
       "2     2  011_S_0002     m36                                             \n",
       "3     2  011_S_0002     m60                                             \n",
       "4     2  011_S_0002     m66                                             \n",
       "5     2  011_S_0002     m72                                             \n",
       "6     2  011_S_0002     m78                                             \n",
       "7     2  011_S_0002     m84                                             \n",
       "8     2  011_S_0002     m90                                             \n",
       "9     2  011_S_0002     m96                                             \n",
       "10    2  011_S_0002    m102                                             \n",
       "11    2  011_S_0002    m108                                             \n",
       "12    2  011_S_0002    m120                                             "
      ]
     },
     "execution_count": 7,
     "metadata": {},
     "output_type": "execute_result"
    }
   ],
   "source": [
    "subject_id = ucsffsx_ids[0]\n",
    "tadpole_image[tadpole_image['RID']==subject_id]"
   ]
  },
  {
   "cell_type": "code",
   "execution_count": 12,
   "id": "9f94ace5",
   "metadata": {},
   "outputs": [
    {
     "data": {
      "text/html": [
       "<div>\n",
       "<style scoped>\n",
       "    .dataframe tbody tr th:only-of-type {\n",
       "        vertical-align: middle;\n",
       "    }\n",
       "\n",
       "    .dataframe tbody tr th {\n",
       "        vertical-align: top;\n",
       "    }\n",
       "\n",
       "    .dataframe thead th {\n",
       "        text-align: right;\n",
       "    }\n",
       "</style>\n",
       "<table border=\"1\" class=\"dataframe\">\n",
       "  <thead>\n",
       "    <tr style=\"text-align: right;\">\n",
       "      <th></th>\n",
       "      <th>RID</th>\n",
       "      <th>VISCODE</th>\n",
       "      <th>IMAGEUID</th>\n",
       "    </tr>\n",
       "  </thead>\n",
       "  <tbody>\n",
       "    <tr>\n",
       "      <th>0</th>\n",
       "      <td>2</td>\n",
       "      <td>sc</td>\n",
       "      <td>35475</td>\n",
       "    </tr>\n",
       "  </tbody>\n",
       "</table>\n",
       "</div>"
      ],
      "text/plain": [
       "   RID VISCODE  IMAGEUID\n",
       "0    2      sc     35475"
      ]
     },
     "execution_count": 12,
     "metadata": {},
     "output_type": "execute_result"
    }
   ],
   "source": [
    "ucsffsx[['RID', 'VISCODE', 'IMAGEUID']][ucsffsx['RID']==subject_id]"
   ]
  },
  {
   "cell_type": "code",
   "execution_count": 13,
   "id": "cc8f4ab5",
   "metadata": {},
   "outputs": [
    {
     "data": {
      "text/html": [
       "<div>\n",
       "<style scoped>\n",
       "    .dataframe tbody tr th:only-of-type {\n",
       "        vertical-align: middle;\n",
       "    }\n",
       "\n",
       "    .dataframe tbody tr th {\n",
       "        vertical-align: top;\n",
       "    }\n",
       "\n",
       "    .dataframe thead th {\n",
       "        text-align: right;\n",
       "    }\n",
       "</style>\n",
       "<table border=\"1\" class=\"dataframe\">\n",
       "  <thead>\n",
       "    <tr style=\"text-align: right;\">\n",
       "      <th></th>\n",
       "      <th>Image Data ID</th>\n",
       "      <th>Subject</th>\n",
       "      <th>Group</th>\n",
       "      <th>Sex</th>\n",
       "      <th>Age</th>\n",
       "      <th>Visit</th>\n",
       "      <th>Modality</th>\n",
       "      <th>Description</th>\n",
       "      <th>Type</th>\n",
       "      <th>Acq Date</th>\n",
       "      <th>Format</th>\n",
       "      <th>Downloaded</th>\n",
       "    </tr>\n",
       "  </thead>\n",
       "  <tbody>\n",
       "    <tr>\n",
       "      <th>1888</th>\n",
       "      <td>I252183</td>\n",
       "      <td>011_S_0002</td>\n",
       "      <td>CN</td>\n",
       "      <td>M</td>\n",
       "      <td>74</td>\n",
       "      <td>sc</td>\n",
       "      <td>MRI</td>\n",
       "      <td>FreeSurfer Cross-Sectional Processing surfaces</td>\n",
       "      <td>Post-processed</td>\n",
       "      <td>8/26/2005</td>\n",
       "      <td>FS</td>\n",
       "      <td>4/08/2025</td>\n",
       "    </tr>\n",
       "  </tbody>\n",
       "</table>\n",
       "</div>"
      ],
      "text/plain": [
       "     Image Data ID     Subject Group Sex  Age Visit Modality  \\\n",
       "1888       I252183  011_S_0002    CN   M   74    sc      MRI   \n",
       "\n",
       "                                         Description            Type  \\\n",
       "1888  FreeSurfer Cross-Sectional Processing surfaces  Post-processed   \n",
       "\n",
       "       Acq Date Format Downloaded  \n",
       "1888  8/26/2005     FS  4/08/2025  "
      ]
     },
     "execution_count": 13,
     "metadata": {},
     "output_type": "execute_result"
    }
   ],
   "source": [
    "surf_files[surf_files['Subject']==tadpole_image[tadpole_image['RID']==subject_id]['PTID'].values[0]]"
   ]
  },
  {
   "cell_type": "markdown",
   "id": "fbb7e1b0",
   "metadata": {},
   "source": [
    "### Plot Distributions"
   ]
  },
  {
   "cell_type": "code",
   "execution_count": 15,
   "id": "f8d02a6a",
   "metadata": {},
   "outputs": [
    {
     "data": {
      "image/png": "[encoded data removed]",
      "text/plain": [
       "<Figure size 800x500 with 1 Axes>"
      ]
     },
     "metadata": {},
     "output_type": "display_data"
    }
   ],
   "source": [
    "import pandas as pd\n",
    "import matplotlib.pyplot as plt\n",
    "\n",
    "# Assuming your DataFrame is called surf_files and has columns 'Subject' and 'Visit'\n",
    "\n",
    "# Count the number of visits per subject\n",
    "visit_counts = surf_files.groupby('Subject')['Visit'].nunique()\n",
    "\n",
    "# Plot the histogram\n",
    "plt.figure(figsize=(8, 5))\n",
    "plt.hist(visit_counts, bins=range(1, visit_counts.max()+2), edgecolor='black', align='left')\n",
    "plt.title('Distribution of Number of Visits per Subject in the Surf Files (ADNI1)' )\n",
    "plt.xlabel('Number of Visits')\n",
    "plt.ylabel('Number of Subjects')\n",
    "plt.xticks(range(1, visit_counts.max()+1))\n",
    "plt.grid(axis='y', linestyle='--', alpha=0.7)\n",
    "plt.tight_layout()\n",
    "plt.show()\n"
   ]
  },
  {
   "cell_type": "code",
   "execution_count": 16,
   "id": "9132ed06",
   "metadata": {},
   "outputs": [
    {
     "data": {
      "image/png": "[encoded data removed]",
      "text/plain": [
       "<Figure size 1000x500 with 1 Axes>"
      ]
     },
     "metadata": {},
     "output_type": "display_data"
    }
   ],
   "source": [
    "import seaborn as sns\n",
    "import matplotlib.pyplot as plt\n",
    "\n",
    "# Count the occurrences of each unique visit code\n",
    "visit_counts = surf_files['Visit'].value_counts().sort_index()\n",
    "\n",
    "# Plot\n",
    "plt.figure(figsize=(10, 5))\n",
    "sns.barplot(x=visit_counts.index, y=visit_counts.values)\n",
    "plt.title('Frequency of Each Visit Code')\n",
    "plt.xlabel('Visit Code')\n",
    "plt.ylabel('Number of Appearances')\n",
    "plt.xticks(rotation=45)\n",
    "plt.grid(axis='y', linestyle='--', alpha=0.7)\n",
    "plt.tight_layout()\n",
    "plt.show()\n"
   ]
  },
  {
   "cell_type": "code",
   "execution_count": 22,
   "id": "fb57fc8f",
   "metadata": {},
   "outputs": [],
   "source": [
    "surf_files['Visit'] = surf_files['Visit'].replace('sc', 'bl')\n",
    "# First, get the matching subject-visit pairs from surf_files\n",
    "keys_df = surf_files[['Subject', 'Visit']].drop_duplicates()\n",
    "\n",
    "# Then merge to retrieve only matching rows from tadpole\n",
    "matched_tadpole_rows = pd.merge(\n",
    "    tadpole,\n",
    "    keys_df,\n",
    "    left_on=['PTID', 'VISCODE'],\n",
    "    right_on=['Subject', 'Visit'],\n",
    "    how='inner'\n",
    ").drop(columns=['Subject', 'Visit'])"
   ]
  },
  {
   "cell_type": "code",
   "execution_count": 31,
   "id": "6236d3c4",
   "metadata": {},
   "outputs": [
    {
     "data": {
      "text/plain": [
       "COLPROT\n",
       "ADNI1     3385\n",
       "ADNIGO      16\n",
       "Name: count, dtype: int64"
      ]
     },
     "execution_count": 31,
     "metadata": {},
     "output_type": "execute_result"
    }
   ],
   "source": [
    "matched_tadpole_rows['COLPROT'].value_counts()"
   ]
  }
 ],
 "metadata": {
  "kernelspec": {
   "display_name": "Python 3",
   "language": "python",
   "name": "python3"
  },
  "language_info": {
   "codemirror_mode": {
    "name": "ipython",
    "version": 3
   },
   "file_extension": ".py",
   "mimetype": "text/x-python",
   "name": "python",
   "nbconvert_exporter": "python",
   "pygments_lexer": "ipython3",
   "version": "3.11.4"
  }
 },
 "nbformat": 4,
 "nbformat_minor": 5
}
